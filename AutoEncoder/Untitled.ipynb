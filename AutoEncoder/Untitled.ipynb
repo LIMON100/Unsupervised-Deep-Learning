{
 "cells": [
  {
   "cell_type": "code",
   "execution_count": 1,
   "metadata": {},
   "outputs": [
    {
     "name": "stderr",
     "output_type": "stream",
     "text": [
      "Using TensorFlow backend.\n"
     ]
    }
   ],
   "source": [
    "from keras.layers import Input, Dense\n",
    "from keras.models import Model\n",
    "\n",
    "# this is the size of our encoded representations\n",
    "encoding_dim = 32  # 32 floats -> compression of factor 24.5, assuming the input is 784 floats\n",
    "\n",
    "# this is our input placeholder\n",
    "input_img = Input(shape=(784,))\n",
    "# \"encoded\" is the encoded representation of the input\n",
    "encoded = Dense(encoding_dim, activation='relu')(input_img)\n",
    "# \"decoded\" is the lossy reconstruction of the input\n",
    "decoded = Dense(784, activation='sigmoid')(encoded)\n",
    "\n",
    "# this model maps an input to its reconstruction\n",
    "autoencoder = Model(input_img, decoded)"
   ]
  },
  {
   "cell_type": "code",
   "execution_count": 2,
   "metadata": {},
   "outputs": [],
   "source": [
    "# this model maps an input to its encoded representation\n",
    "encoder = Model(input_img, encoded)"
   ]
  },
  {
   "cell_type": "code",
   "execution_count": 3,
   "metadata": {},
   "outputs": [],
   "source": [
    "# create a placeholder for an encoded (32-dimensional) input\n",
    "encoded_input = Input(shape=(encoding_dim,))\n",
    "# retrieve the last layer of the autoencoder model\n",
    "decoder_layer = autoencoder.layers[-1]\n",
    "# create the decoder model\n",
    "decoder = Model(encoded_input, decoder_layer(encoded_input))"
   ]
  },
  {
   "cell_type": "code",
   "execution_count": 4,
   "metadata": {},
   "outputs": [],
   "source": [
    "autoencoder.compile(optimizer='adadelta', loss='binary_crossentropy')"
   ]
  },
  {
   "cell_type": "code",
   "execution_count": 5,
   "metadata": {},
   "outputs": [],
   "source": [
    "from keras.datasets import mnist\n",
    "import numpy as np\n",
    "(x_train, _), (x_test, _) = mnist.load_data()"
   ]
  },
  {
   "cell_type": "code",
   "execution_count": 6,
   "metadata": {},
   "outputs": [
    {
     "name": "stdout",
     "output_type": "stream",
     "text": [
      "(60000, 784)\n",
      "(10000, 784)\n"
     ]
    }
   ],
   "source": [
    "x_train = x_train.astype('float32') / 255.\n",
    "x_test = x_test.astype('float32') / 255.\n",
    "x_train = x_train.reshape((len(x_train), np.prod(x_train.shape[1:])))\n",
    "x_test = x_test.reshape((len(x_test), np.prod(x_test.shape[1:])))\n",
    "print(x_train.shape)\n",
    "print(x_test.shape)"
   ]
  },
  {
   "cell_type": "code",
   "execution_count": 7,
   "metadata": {},
   "outputs": [
    {
     "name": "stdout",
     "output_type": "stream",
     "text": [
      "Train on 60000 samples, validate on 10000 samples\n",
      "Epoch 1/50\n",
      "60000/60000 [==============================] - 3s 58us/step - loss: 0.6943 - val_loss: 0.6943\n",
      "Epoch 2/50\n",
      "60000/60000 [==============================] - 3s 53us/step - loss: 0.6941 - val_loss: 0.6941\n",
      "Epoch 3/50\n",
      "60000/60000 [==============================] - 3s 51us/step - loss: 0.6940 - val_loss: 0.6939\n",
      "Epoch 4/50\n",
      "60000/60000 [==============================] - 3s 48us/step - loss: 0.6938 - val_loss: 0.6937\n",
      "Epoch 5/50\n",
      "60000/60000 [==============================] - 3s 48us/step - loss: 0.6936 - val_loss: 0.6936\n",
      "Epoch 6/50\n",
      "60000/60000 [==============================] - 3s 55us/step - loss: 0.6935 - val_loss: 0.6934\n",
      "Epoch 7/50\n",
      "60000/60000 [==============================] - 3s 52us/step - loss: 0.6933 - val_loss: 0.6932\n",
      "Epoch 8/50\n",
      "60000/60000 [==============================] - 3s 50us/step - loss: 0.6931 - val_loss: 0.6931\n",
      "Epoch 9/50\n",
      "60000/60000 [==============================] - 3s 48us/step - loss: 0.6930 - val_loss: 0.6929\n",
      "Epoch 10/50\n",
      "60000/60000 [==============================] - 3s 47us/step - loss: 0.6928 - val_loss: 0.6927\n",
      "Epoch 11/50\n",
      "60000/60000 [==============================] - 3s 47us/step - loss: 0.6926 - val_loss: 0.6926\n",
      "Epoch 12/50\n",
      "60000/60000 [==============================] - 3s 46us/step - loss: 0.6925 - val_loss: 0.6924\n",
      "Epoch 13/50\n",
      "60000/60000 [==============================] - 3s 47us/step - loss: 0.6923 - val_loss: 0.6922\n",
      "Epoch 14/50\n",
      "60000/60000 [==============================] - 3s 46us/step - loss: 0.6921 - val_loss: 0.6921\n",
      "Epoch 15/50\n",
      "60000/60000 [==============================] - 3s 46us/step - loss: 0.6920 - val_loss: 0.6919\n",
      "Epoch 16/50\n",
      "60000/60000 [==============================] - 3s 47us/step - loss: 0.6918 - val_loss: 0.6917\n",
      "Epoch 17/50\n",
      "60000/60000 [==============================] - 3s 47us/step - loss: 0.6917 - val_loss: 0.6916\n",
      "Epoch 18/50\n",
      "60000/60000 [==============================] - 3s 46us/step - loss: 0.6915 - val_loss: 0.6914\n",
      "Epoch 19/50\n",
      "60000/60000 [==============================] - 3s 47us/step - loss: 0.6913 - val_loss: 0.6913\n",
      "Epoch 20/50\n",
      "60000/60000 [==============================] - 3s 47us/step - loss: 0.6912 - val_loss: 0.6911\n",
      "Epoch 21/50\n",
      "60000/60000 [==============================] - 3s 47us/step - loss: 0.6910 - val_loss: 0.6909\n",
      "Epoch 22/50\n",
      "60000/60000 [==============================] - 3s 47us/step - loss: 0.6909 - val_loss: 0.6908\n",
      "Epoch 23/50\n",
      "60000/60000 [==============================] - 3s 47us/step - loss: 0.6907 - val_loss: 0.6906\n",
      "Epoch 24/50\n",
      "60000/60000 [==============================] - 3s 47us/step - loss: 0.6905 - val_loss: 0.6904\n",
      "Epoch 25/50\n",
      "60000/60000 [==============================] - 3s 49us/step - loss: 0.6904 - val_loss: 0.6903\n",
      "Epoch 26/50\n",
      "60000/60000 [==============================] - 3s 49us/step - loss: 0.6902 - val_loss: 0.6901\n",
      "Epoch 27/50\n",
      "60000/60000 [==============================] - 3s 47us/step - loss: 0.6900 - val_loss: 0.6899\n",
      "Epoch 28/50\n",
      "60000/60000 [==============================] - 3s 46us/step - loss: 0.6899 - val_loss: 0.6898\n",
      "Epoch 29/50\n",
      "60000/60000 [==============================] - 3s 47us/step - loss: 0.6897 - val_loss: 0.6896\n",
      "Epoch 30/50\n",
      "60000/60000 [==============================] - 3s 47us/step - loss: 0.6895 - val_loss: 0.6894\n",
      "Epoch 31/50\n",
      "60000/60000 [==============================] - 3s 47us/step - loss: 0.6893 - val_loss: 0.6892\n",
      "Epoch 32/50\n",
      "60000/60000 [==============================] - 3s 46us/step - loss: 0.6892 - val_loss: 0.6890\n",
      "Epoch 33/50\n",
      "60000/60000 [==============================] - 3s 46us/step - loss: 0.6890 - val_loss: 0.6889\n",
      "Epoch 34/50\n",
      "60000/60000 [==============================] - 3s 47us/step - loss: 0.6888 - val_loss: 0.6887\n",
      "Epoch 35/50\n",
      "60000/60000 [==============================] - 3s 46us/step - loss: 0.6886 - val_loss: 0.6885\n",
      "Epoch 36/50\n",
      "60000/60000 [==============================] - 3s 47us/step - loss: 0.6884 - val_loss: 0.6883\n",
      "Epoch 37/50\n",
      "60000/60000 [==============================] - 3s 47us/step - loss: 0.6883 - val_loss: 0.6881\n",
      "Epoch 38/50\n",
      "60000/60000 [==============================] - 3s 47us/step - loss: 0.6881 - val_loss: 0.6879\n",
      "Epoch 39/50\n",
      "60000/60000 [==============================] - 3s 47us/step - loss: 0.6879 - val_loss: 0.6877\n",
      "Epoch 40/50\n",
      "60000/60000 [==============================] - 3s 47us/step - loss: 0.6877 - val_loss: 0.6875\n",
      "Epoch 41/50\n",
      "60000/60000 [==============================] - 3s 46us/step - loss: 0.6875 - val_loss: 0.6873\n",
      "Epoch 42/50\n",
      "60000/60000 [==============================] - 3s 47us/step - loss: 0.6873 - val_loss: 0.6871\n",
      "Epoch 43/50\n",
      "60000/60000 [==============================] - 3s 47us/step - loss: 0.6870 - val_loss: 0.6869\n",
      "Epoch 44/50\n",
      "60000/60000 [==============================] - 3s 46us/step - loss: 0.6868 - val_loss: 0.6866\n",
      "Epoch 45/50\n",
      "60000/60000 [==============================] - 3s 47us/step - loss: 0.6866 - val_loss: 0.6864\n",
      "Epoch 46/50\n",
      "60000/60000 [==============================] - 3s 47us/step - loss: 0.6864 - val_loss: 0.6862\n",
      "Epoch 47/50\n",
      "60000/60000 [==============================] - 3s 47us/step - loss: 0.6862 - val_loss: 0.6859\n",
      "Epoch 48/50\n",
      "60000/60000 [==============================] - 3s 47us/step - loss: 0.6859 - val_loss: 0.6857\n",
      "Epoch 49/50\n",
      "60000/60000 [==============================] - 3s 47us/step - loss: 0.6857 - val_loss: 0.6855\n",
      "Epoch 50/50\n",
      "60000/60000 [==============================] - 3s 47us/step - loss: 0.6854 - val_loss: 0.6852\n"
     ]
    },
    {
     "data": {
      "text/plain": [
       "<keras.callbacks.callbacks.History at 0x2210a829748>"
      ]
     },
     "execution_count": 7,
     "metadata": {},
     "output_type": "execute_result"
    }
   ],
   "source": [
    "autoencoder.fit(x_train, x_train,\n",
    "                epochs=50,\n",
    "                batch_size=256,\n",
    "                shuffle=True,\n",
    "                validation_data=(x_test, x_test))"
   ]
  },
  {
   "cell_type": "code",
   "execution_count": 8,
   "metadata": {},
   "outputs": [],
   "source": [
    "encoded_imgs = encoder.predict(x_test)\n",
    "decoded_imgs = decoder.predict(encoded_imgs)"
   ]
  },
  {
   "cell_type": "code",
   "execution_count": 9,
   "metadata": {},
   "outputs": [
    {
     "data": {
      "image/png": "[encoded data removed]",
      "text/plain": [
       "<Figure size 1440x288 with 20 Axes>"
      ]
     },
     "metadata": {
      "needs_background": "light"
     },
     "output_type": "display_data"
    }
   ],
   "source": [
    "import matplotlib.pyplot as plt\n",
    "\n",
    "n = 10  # how many digits we will display\n",
    "plt.figure(figsize=(20, 4))\n",
    "for i in range(n):\n",
    "    # display original\n",
    "    ax = plt.subplot(2, n, i + 1)\n",
    "    plt.imshow(x_test[i].reshape(28, 28))\n",
    "    plt.gray()\n",
    "    ax.get_xaxis().set_visible(False)\n",
    "    ax.get_yaxis().set_visible(False)\n",
    "\n",
    "    # display reconstruction\n",
    "    ax = plt.subplot(2, n, i + 1 + n)\n",
    "    plt.imshow(decoded_imgs[i].reshape(28, 28))\n",
    "    plt.gray()\n",
    "    ax.get_xaxis().set_visible(False)\n",
    "    ax.get_yaxis().set_visible(False)\n",
    "plt.show()"
   ]
  },
  {
   "cell_type": "markdown",
   "metadata": {},
   "source": [
    "#### Adding extra sparsisty"
   ]
  },
  {
   "cell_type": "code",
   "execution_count": 10,
   "metadata": {},
   "outputs": [],
   "source": [
    "from keras import regularizers\n",
    "\n",
    "encoding_dim = 32\n",
    "\n",
    "input_img = Input(shape=(784,))\n",
    "# add a Dense layer with a L1 activity regularizer\n",
    "encoded = Dense(encoding_dim, activation='relu',\n",
    "                activity_regularizer = regularizers.l1(10e-5))(input_img)\n",
    "decoded = Dense(784, activation='sigmoid')(encoded)\n",
    "\n",
    "autoencoder = Model(input_img, decoded)"
   ]
  },
  {
   "cell_type": "code",
   "execution_count": 11,
   "metadata": {},
   "outputs": [
    {
     "name": "stdout",
     "output_type": "stream",
     "text": [
      "(60000, 784)\n",
      "(10000, 784)\n",
      "Train on 60000 samples, validate on 10000 samples\n",
      "Epoch 1/50\n",
      "60000/60000 [==============================] - 3s 48us/step - loss: 0.8542 - val_loss: 0.8477\n",
      "Epoch 2/50\n",
      "60000/60000 [==============================] - 3s 46us/step - loss: 0.8385 - val_loss: 0.8316\n",
      "Epoch 3/50\n",
      "60000/60000 [==============================] - 3s 47us/step - loss: 0.8226 - val_loss: 0.8156\n",
      "Epoch 4/50\n",
      "60000/60000 [==============================] - 3s 47us/step - loss: 0.8071 - val_loss: 0.8003\n",
      "Epoch 5/50\n",
      "60000/60000 [==============================] - 3s 46us/step - loss: 0.7925 - val_loss: 0.7860\n",
      "Epoch 6/50\n",
      "60000/60000 [==============================] - 3s 46us/step - loss: 0.7790 - val_loss: 0.7730\n",
      "Epoch 7/50\n",
      "60000/60000 [==============================] - 3s 46us/step - loss: 0.7668 - val_loss: 0.7614\n",
      "Epoch 8/50\n",
      "60000/60000 [==============================] - 3s 46us/step - loss: 0.7559 - val_loss: 0.7511\n",
      "Epoch 9/50\n",
      "60000/60000 [==============================] - 3s 46us/step - loss: 0.7464 - val_loss: 0.7422\n",
      "Epoch 10/50\n",
      "60000/60000 [==============================] - 3s 46us/step - loss: 0.7382 - val_loss: 0.7345\n",
      "Epoch 11/50\n",
      "60000/60000 [==============================] - 3s 46us/step - loss: 0.7312 - val_loss: 0.7280\n",
      "Epoch 12/50\n",
      "60000/60000 [==============================] - 3s 47us/step - loss: 0.7253 - val_loss: 0.7225\n",
      "Epoch 13/50\n",
      "60000/60000 [==============================] - 3s 47us/step - loss: 0.7203 - val_loss: 0.7179\n",
      "Epoch 14/50\n",
      "60000/60000 [==============================] - 3s 48us/step - loss: 0.7161 - val_loss: 0.7141\n",
      "Epoch 15/50\n",
      "60000/60000 [==============================] - 3s 47us/step - loss: 0.7127 - val_loss: 0.7110\n",
      "Epoch 16/50\n",
      "60000/60000 [==============================] - 3s 47us/step - loss: 0.7098 - val_loss: 0.7083\n",
      "Epoch 17/50\n",
      "60000/60000 [==============================] - 3s 46us/step - loss: 0.7074 - val_loss: 0.7062\n",
      "Epoch 18/50\n",
      "60000/60000 [==============================] - 3s 46us/step - loss: 0.7055 - val_loss: 0.7043\n",
      "Epoch 19/50\n",
      "60000/60000 [==============================] - 3s 45us/step - loss: 0.7038 - val_loss: 0.7028\n",
      "Epoch 20/50\n",
      "60000/60000 [==============================] - 3s 46us/step - loss: 0.7024 - val_loss: 0.7016\n",
      "Epoch 21/50\n",
      "60000/60000 [==============================] - 3s 45us/step - loss: 0.7013 - val_loss: 0.7005\n",
      "Epoch 22/50\n",
      "60000/60000 [==============================] - 3s 46us/step - loss: 0.7003 - val_loss: 0.6996\n",
      "Epoch 23/50\n",
      "60000/60000 [==============================] - 3s 45us/step - loss: 0.6995 - val_loss: 0.6988\n",
      "Epoch 24/50\n",
      "60000/60000 [==============================] - 3s 45us/step - loss: 0.6988 - val_loss: 0.6982\n",
      "Epoch 25/50\n",
      "60000/60000 [==============================] - 3s 45us/step - loss: 0.6981 - val_loss: 0.6976\n",
      "Epoch 26/50\n",
      "60000/60000 [==============================] - 3s 45us/step - loss: 0.6976 - val_loss: 0.6971\n",
      "Epoch 27/50\n",
      "60000/60000 [==============================] - 3s 45us/step - loss: 0.6971 - val_loss: 0.6967\n",
      "Epoch 28/50\n",
      "60000/60000 [==============================] - 3s 45us/step - loss: 0.6967 - val_loss: 0.6963\n",
      "Epoch 29/50\n",
      "60000/60000 [==============================] - 3s 45us/step - loss: 0.6963 - val_loss: 0.6959\n",
      "Epoch 30/50\n",
      "60000/60000 [==============================] - 3s 45us/step - loss: 0.6960 - val_loss: 0.6956\n",
      "Epoch 31/50\n",
      "60000/60000 [==============================] - 3s 45us/step - loss: 0.6957 - val_loss: 0.6953\n",
      "Epoch 32/50\n",
      "60000/60000 [==============================] - 3s 46us/step - loss: 0.6954 - val_loss: 0.6951\n",
      "Epoch 33/50\n",
      "60000/60000 [==============================] - 3s 45us/step - loss: 0.6951 - val_loss: 0.6948\n",
      "Epoch 34/50\n",
      "60000/60000 [==============================] - 3s 45us/step - loss: 0.6949 - val_loss: 0.6946\n",
      "Epoch 35/50\n",
      "60000/60000 [==============================] - 3s 45us/step - loss: 0.6947 - val_loss: 0.6944\n",
      "Epoch 36/50\n",
      "60000/60000 [==============================] - 3s 45us/step - loss: 0.6945 - val_loss: 0.6942\n",
      "Epoch 37/50\n",
      "60000/60000 [==============================] - 3s 45us/step - loss: 0.6943 - val_loss: 0.6940\n",
      "Epoch 38/50\n",
      "60000/60000 [==============================] - 3s 45us/step - loss: 0.6941 - val_loss: 0.6938\n",
      "Epoch 39/50\n",
      "60000/60000 [==============================] - 3s 45us/step - loss: 0.6939 - val_loss: 0.6937\n",
      "Epoch 40/50\n",
      "60000/60000 [==============================] - 3s 45us/step - loss: 0.6938 - val_loss: 0.6935\n",
      "Epoch 41/50\n",
      "60000/60000 [==============================] - 3s 45us/step - loss: 0.6936 - val_loss: 0.6934\n",
      "Epoch 42/50\n",
      "60000/60000 [==============================] - 3s 45us/step - loss: 0.6935 - val_loss: 0.6932\n",
      "Epoch 43/50\n",
      "60000/60000 [==============================] - 3s 45us/step - loss: 0.6933 - val_loss: 0.6931\n",
      "Epoch 44/50\n",
      "60000/60000 [==============================] - 3s 45us/step - loss: 0.6932 - val_loss: 0.6930\n",
      "Epoch 45/50\n",
      "60000/60000 [==============================] - 3s 45us/step - loss: 0.6931 - val_loss: 0.6929\n",
      "Epoch 46/50\n",
      "60000/60000 [==============================] - 3s 49us/step - loss: 0.6930 - val_loss: 0.6928\n",
      "Epoch 47/50\n",
      "60000/60000 [==============================] - 3s 49us/step - loss: 0.6928 - val_loss: 0.6926\n",
      "Epoch 48/50\n",
      "60000/60000 [==============================] - 3s 46us/step - loss: 0.6927 - val_loss: 0.6925\n",
      "Epoch 49/50\n",
      "60000/60000 [==============================] - 3s 45us/step - loss: 0.6926 - val_loss: 0.6924\n",
      "Epoch 50/50\n",
      "60000/60000 [==============================] - 3s 46us/step - loss: 0.6925 - val_loss: 0.6923\n"
     ]
    },
    {
     "data": {
      "image/png": "[encoded data removed]",
      "text/plain": [
       "<Figure size 1440x288 with 20 Axes>"
      ]
     },
     "metadata": {
      "needs_background": "light"
     },
     "output_type": "display_data"
    }
   ],
   "source": [
    "# this model maps an input to its encoded representation\n",
    "encoder = Model(input_img, encoded)\n",
    "\n",
    "\n",
    "\n",
    "# create a placeholder for an encoded (32-dimensional) input\n",
    "encoded_input = Input(shape=(encoding_dim,))\n",
    "# retrieve the last layer of the autoencoder model\n",
    "decoder_layer = autoencoder.layers[-1]\n",
    "# create the decoder model\n",
    "decoder = Model(encoded_input, decoder_layer(encoded_input))\n",
    "\n",
    "\n",
    "autoencoder.compile(optimizer='adadelta', loss='binary_crossentropy')\n",
    "\n",
    "\n",
    "from keras.datasets import mnist\n",
    "import numpy as np\n",
    "(x_train, _), (x_test, _) = mnist.load_data()\n",
    "\n",
    "\n",
    "x_train = x_train.astype('float32') / 255.\n",
    "x_test = x_test.astype('float32') / 255.\n",
    "x_train = x_train.reshape((len(x_train), np.prod(x_train.shape[1:])))\n",
    "x_test = x_test.reshape((len(x_test), np.prod(x_test.shape[1:])))\n",
    "print(x_train.shape)\n",
    "print(x_test.shape)\n",
    "\n",
    "\n",
    "autoencoder.fit(x_train, x_train,\n",
    "                epochs=50,\n",
    "                batch_size=256,\n",
    "                shuffle=True,\n",
    "                validation_data=(x_test, x_test))\n",
    "\n",
    "\n",
    "\n",
    "# encode and decode some digits\n",
    "# note that we take them from the *test* set\n",
    "encoded_imgs = encoder.predict(x_test)\n",
    "decoded_imgs = decoder.predict(encoded_imgs)\n",
    "\n",
    "\n",
    "\n",
    "\n",
    "\n",
    "n = 10 \n",
    "plt.figure(figsize=(20, 4))\n",
    "for i in range(n):\n",
    "    # display original\n",
    "    ax = plt.subplot(2, n, i + 1)\n",
    "    plt.imshow(x_test[i].reshape(28, 28))\n",
    "    plt.gray()\n",
    "    ax.get_xaxis().set_visible(False)\n",
    "    ax.get_yaxis().set_visible(False)\n",
    "\n",
    "    # display reconstruction\n",
    "    ax = plt.subplot(2, n, i + 1 + n)\n",
    "    plt.imshow(decoded_imgs[i].reshape(28, 28))\n",
    "    plt.gray()\n",
    "    ax.get_xaxis().set_visible(False)\n",
    "    ax.get_yaxis().set_visible(False)\n",
    "plt.show()"
   ]
  }
 ],
 "metadata": {
  "kernelspec": {
   "display_name": "Python 3",
   "language": "python",
   "name": "python3"
  },
  "language_info": {
   "codemirror_mode": {
    "name": "ipython",
    "version": 3
   },
   "file_extension": ".py",
   "mimetype": "text/x-python",
   "name": "python",
   "nbconvert_exporter": "python",
   "pygments_lexer": "ipython3",
   "version": "3.7.6"
  }
 },
 "nbformat": 4,
 "nbformat_minor": 4
}
